{
 "cells": [
  {
   "cell_type": "markdown",
   "source": "# Below code is somewhat outdated as the main project notebook has the working code\n\n## References\n\n+ The official Reddit API documentation: https://praw.readthedocs.io/en/latest/#getting-started\n\n+ Tutorial on extracting comments with Reddit API: https://praw.readthedocs.io/en/latest/tutorials/comments.html#extracting-comments-with-praw\n\n**Classes used**\n\n+ Submission: https://praw.readthedocs.io/en/latest/code_overview/models/submission.html#praw.models.Submission.comments\n\n+ Comment: https://praw.readthedocs.io/en/latest/code_overview/models/comment.html?highlight=comment\n\n+ CommentForest: https://praw.readthedocs.io/en/latest/code_overview/other/commentforest.html#praw.models.comment_forest.CommentForest\n\n**Potential Bug (?)**\n\n+ 413 Error when requesting <50k comments: https://github.com/praw-dev/praw/issues/1401",
   "metadata": {
    "cell_id": "00000-32be4f00-eef8-4584-9fb6-7558ac867810",
    "deepnote_cell_type": "markdown"
   }
  },
  {
   "cell_type": "code",
   "metadata": {
    "cell_id": "00001-e0626313-a480-4255-bb17-01bc1b793cb0",
    "deepnote_to_be_reexecuted": false,
    "source_hash": "e3dc0ef2",
    "execution_millis": 100,
    "output_cleared": false,
    "execution_start": 1619660753354,
    "deepnote_cell_type": "code"
   },
   "source": "import praw\nimport json\n\ncredentials = 'client_secrets.json'\n \nwith open(credentials) as f:\n    creds = json.load(f)\n    \nreddit = praw.Reddit(client_id=creds['client_id'],\n                     client_secret=creds['client_secret'],\n                     user_agent=creds['user_agent'],\n                     redirect_uri=creds['redirect_uri'],\n                     refresh_token=creds['refresh_token'])\nprint(reddit.read_only) # checks to see if reddit is in read only mode, must be FALSE to fully use the reddit API",
   "execution_count": null,
   "outputs": [
    {
     "name": "stdout",
     "text": "False\n",
     "output_type": "stream"
    }
   ]
  },
  {
   "cell_type": "code",
   "metadata": {
    "cell_id": "00002-00d0666c-5d76-4d87-8276-c8dcbb0588cb",
    "deepnote_to_be_reexecuted": false,
    "source_hash": "672b23c3",
    "execution_millis": 754,
    "execution_start": 1619660753449,
    "deepnote_output_heights": [
     51.1875
    ],
    "deepnote_cell_type": "code"
   },
   "source": "url = \"https://old.reddit.com/r/VirginiaTech/comments/9ztq6y/uva_will_never_beat_us_upvote_party/\" # website link of a post\n\n# url is the number 1 post of all time on r/VirginiaTech w/ 103 comments\n\npost = reddit.submission(url=url)\n# post = reddit.submission(id=\"l8rf4k\") # can also use post id directly\n\nfirst_comment = post.comments[0].body\nfirst_comment",
   "execution_count": null,
   "outputs": [
    {
     "output_type": "execute_result",
     "execution_count": 2,
     "data": {
      "text/plain": "'Don’t let UVA losing to a #16 seed distract you from the fact that the worst VT team in 30 years just beat their best team in a decade'"
     },
     "metadata": {}
    }
   ]
  },
  {
   "cell_type": "code",
   "metadata": {
    "cell_id": "00003-ed3b4bd8-3ea0-4a46-b09c-93fd66f9f3c7",
    "deepnote_to_be_reexecuted": false,
    "source_hash": "bcc9b6b9",
    "execution_millis": 10,
    "execution_start": 1619660754205,
    "deepnote_output_heights": [
     607
    ],
    "deepnote_cell_type": "code"
   },
   "source": "testList = []\n\npost.comments.replace_more(limit=1) # limits the number of pages to retrieve comments, if set to none my computer stops responding\n#for comment in post.comments.list(): # prints the comments of post based on limit\n#   testList.append(comment.body)\n\n[testList.append(comment.body) for comment in post.comments.list()]\n\ntestList",
   "execution_count": null,
   "outputs": [
    {
     "output_type": "execute_result",
     "execution_count": 3,
     "data": {
      "text/plain": "['Don’t let UVA losing to a #16 seed distract you from the fact that the worst VT team in 30 years just beat their best team in a decade',\n 'Goddamn what a fucking game wooooo ',\n '[deleted]',\n 'A couple more years of this and the \"my dog has never seen a UVA win\" joke will be obsolete. What kind of dog lives that long?',\n \"This was literally their best chance and they still couldn't do it ahahahaha\",\n 'LETS FUCKING GOOOOOOooo',\n 'HOKIE HOKIE HOKIE HI!!!',\n \"15 years. Let’s make it 15 more!\\n\\nE: 2 years later, I'm in pain\",\n \"Let's go!!!\",\n 'That was a little scary at the end but we did it!',\n 'SAY YOUR PRAYERS',\n 'To be fair, the did end a streak:\\n\\nour losing streak.',\n \"PSA for Hokies and Hoos alike:  VA ABC stores are taking 20% off any purchase over $100 today, and stores are open until 10pm. And if you ain't drinkin', you clearly didn't watch the game. \",\n 'HHAHAHAHAHAHAHAHAHAHAHAHAUMBCHAHAHAHAHAHAHAHAHAHA',\n 'I feel at this point that it’s more 15 years of incompetence on their end than 15 years of dominance by us lol',\n 'If we can beat them this season, we can beat them any season! Let’s goooooooooooo',\n 'How are they this bad lmaooo they really can’t beat us 😂😂',\n '@Marshall: U up? ',\n 'WHAT’S A HOKIE',\n 'The only university that chokes more than the Chokies in sports is UVa hahahahahaha',\n 'Fuck UVA',\n 'They may have taken our Biocomplexity Institute, stealing all our faculty and $100m in contracts, leaving dozens of us students without advisors or money, and dozens of wage staff worried about their jobs and retirements - but they shall not take our football streak!!!',\n '!!!! :D XD XD XD',\n 'FAM! Wahoo tears taste sweetest when collected and consumed using the Commonwealth Cup!',\n \"I was 10 trillion % confident we were going to lose that game after the pick. Like I knew it would happen. And then it didn't. Unreal.\",\n 'UVA is a joke',\n 'No matter how bad we do, we can always stick it to UVA',\n 'I got 10 years older watching this game. ',\n 'I wish I could go back to 2003 and talk to 17 yo me as I snuck out of Scott stadium in shame with a friend and we had a long quiet drive back to Blacksburg: this was the price we had to pay, it will all be worth it.',\n 'I WILL NEVER GIVE UP ON THIS TEAM LETS GOOOOOOOOOOO',\n 'http://www.thekeyplay.com/college-football/2018/07/16294/good-morning-virginia-football-broke-rock',\n 'Stick it in!\\nStick it in!\\nStick it in!\\nStick it in!\\nStick it in!\\nStick it in!\\nStick it in!\\nStick it in!\\nStick it in!\\nStick it in!\\nStick it in!\\nStick it in!\\nStick it in!\\nStick it in!\\nStick it in!',\n 'Uh YEAHHHHH',\n 'Told ya.',\n 'Soy trece millones ',\n 'The incels over at Sabre are claiming a deflategate. Womp womp',\n 'Think you\\'re spot on regarding VT being unique and standing on it\\'s own.  It is folly to recast VT in another universities image.  Blacksburg itself is a big piece of what makes Hokie alums such rabid supporters of the school.  The New River, Main Street, the sunsets over the mountains, etc.  If you want a sprawling and disjointed Rutgers or UC type campus, go there.  Think Frank Beamer epitomized embracing the school for what it is, loving it and working hard to make that \"thing\" stronger.  If Sands is using VT as a stepping stone, I hope he moves on soon.  Think Sands hails from Purdue...wonder if there is something in his past driving him to inchoate the school. I would hope there is a board of trustees providing course corrections.',\n 'Agreed! ',\n 'HOKIES',\n 'TO SHARKEY’S',\n 'HOKIES',\n 'DRINKING',\n '>A couple more years of this and the \"my dog has never seen a UVA win\" joke will be obsolete. What kind of dog lives that long?\\n\\nThere\\'s your new punchline. \"It\\'s been X years! What kind of a dog lives that long?\"',\n \"We'll just start talking about tortoises.\",\n \"Actually, mine lived for 16 years... and smaller ones can live to 18-20 if you take care of them and they get extremely lucky health wise. It's rare though. Cats can live to 18-20 I think too.\",\n \"I'm currently dogsitting for a medium large (German Shepherd sized) dog who's 18 years old. She's a marvel. A marvel who can't control her bowels, but still, a marvel.\",\n \"It's actually a curse\\n\\nWe must have paid a wizard a shitload of cash 15 years ago\",\n 'LOL',\n '😂😂😂',\n 'Hokies!',\n 'TECH TECH VPI!!!!',\n 'Hokies!',\n 'LITTLE ONE',\n 'https://www.youtube.com/watch?v=iY3tEioB4BI',\n \"PSA 2: Montgomery County has double the drunk driving rate on VT game days, and it's Friday, and night, and a holiday, and holy shit what a game. \\n\\nBe careful, and don't be an asshole. \",\n 'This is their best season in decades and they still CHOKED',\n 'This was divine intervention. Seriously.',\n 'NOT BRYCE PERKINS!',\n 'What the heck is that all about??',\n 'To be fair, we have no one to blame for vbi leaving than ourselves. Basically the old provost fucked everything up. Provost forced the destination areas, did some things with promotion and tenure. The faculty were going to force a vote of no confidence before the provost resigned/was reassigned, which you can read about [in this article from the Roanoke Times](https://www.roanoke.com/news/education/higher_education/virginia_tech/former-tech-provost-on-paid-leave-will-have-salary-reduced/article_5f2b04a6-8463-58c0-8001-36bdab3a4c72.html) and this article about [faculty unrest](https://www.roanoke.com/news/education/higher_education/virginia_tech/virginia-tech-provost-announces-resignation-in-wake-of-faculty-unrest/article_fd2a3975-391e-5067-b926-608cd7df8ea0.html)',\n 'Cool',\n 'HOKIEEEES!!',\n \"As a Patriots fan, I'm gonna say they've got to come with more than that.\",\n 'Wow that place is something... Stroking their own egos for being so classy while simultaneously calling our players hicks and goons',\n 'This seems like it was meant for me, continuing a discussion in a other thread? Did you post it in the wrong one?',\n 'Rivermill* for car bombs!',\n 'Better yet, in a few years they will be able to say \"no dog has ever seen UVA beat Virginia Tech.\"',\n 'freshman',\n \"Wonder where Beamer is hiding his horcruxes.  They've got no chance until they find them.  \",\n 'Lol we had like one wish and instead of wishing for an unbeatable team, we were like \"UVA can never beat us lol\" because that was more important',\n 'SOL-A-REX SOL-A-RAH',\n 'DREAD IT',\n 'Ouch. Indeed - send the DD out for refills, boys! ',\n \"The director, Chris Barrett, hated President Sands and Provost Rikakis. For whatever reason he was planning to leave for years.\\n\\nUVA wanted their own biocomplexity institute, but building one from scratch is a huge pain. Barrett and UVA literally conspired for an entire year to force the VT faculty to move along with him. Over the last year most of the contracts listed Barrett as PI, and written in a way that he could take them elsewhere. When the shit hit the fan the rest of the faculty had to choose between being unfunded at VT or getting a big raise and remaining part of the well funded group at UVA. Almost all of them signed. A few said they were basically forced to do so and not given time to consider alternatives. One guy got a job at Block One and stayed in Bburg. \\n\\nSands and company only found out about this because the Roanoke Times broke the story, they had no idea that the entire faculty was leaving.\\n\\nThe students are mostly SOL. Transfering to UVA would add at least two years to their degrees. Staying means finding new advisers and funding. The foreign kids without funding could lose their visas. The staff also got shafted, I know one lady who has 18 months to retirement. For her sake let's hope VT tries to salvage BI.\\n\\nI can't blame most of the faculty who left. They had little choice. I blame Barrett for being a prideful greedy traitor, Rikakis for that stupid destination area idea and being a prick that started this mess, Sands for not realizing the director of his #2 institute was flirting with the enemy for a year, and UVA for raiding a sister institution.\\n\\nRaids of 20+ people are almost unheard of. Doing it to a fellow public institution is insanely unethical. Allegedly the state government knew about the plan and OKed it.\\n_________\\n\\nTL;DR: UVA screwed us hard. Seeing them lose their 15th in a row is wonderful.\",\n 'Probably...sorry...',\n 'I’d sit at the London Underground smoking my pipe after the win 👍',\n \"Or sooner, The freshmen weren't even born the last time UVA beat VT. \",\n \"Cookout downtown\\n\\nBeamer dome\\n\\nDrillfield\\n\\nDuck Pond\\n\\nHank's treat box\\n\\nUVA's field\\n\\nAnd one at OU with Shane\",\n 'POLY-TECH! VIR-GIN-IA!',\n 'RUN FROM IT',\n 'Holy crap...that\\'s horrible.  Shame on the Commonwealth for sanctioning this dirty trick.  \\n\\nEdit: what do you mean by \"destination area idea\" and why is it stupid?',\n \"I'm partial to the Cellar myself, but Underground is a top pick\",\n 'Imagine it: \"This is before your time kid, but UVa actually used to beat VT every once in a while.\"',\n \"There's got to be more of them.  One for each year we've killed their chance at winning.\",\n \"There's a new one hidden in his new friendly statue\",\n \"One's in the Empo\",\n 'That cookout wasn’t there when the streak started. Can’t be that. ',\n 'Cookout is too new... And garbage ',\n 'RAY RAH VPI!',\n 'VT VICTORY OVER UVA STILL ARRIVES. ',\n 'TO INCLUDE EVERYONE',\n 'DESTINY ARRIVES ALL THE SAME',\n '>  \"destination area idea\" and why is it stupid?\\n\\nIt\\'s not a terrible idea, it\\'s just very poorly executed. \\n\\nIn academia the general trend seems to be towards interdisciplinary studies. The more extreme factions seem to think that one day universities will abandon departmental organization (mech e, civil eng, chemistry, biology, etc.), in favor of organizing around specific problems. At that point people from all disciplines will congregate around a specific problem and cooperate to solve them. Idealistic, maybe naive, but some merit to the idea.  \\n\\nSands seems to be one of these folks, and the destination areas is a first step towards this. Basically, large groups of interdisciplinary folks seeking grants and doing research on specific issues. VT has identified the following as destination areas it wants to pursue: \\n\\n* Adaptive Brain and Behavior\\n* Creativity and Innovation\\n* Data and Decisions\\n* Economical and Sustainable Materials\\n* Equity and Social Disparity in the Human Condition\\n* Global Systems Science\\n* Integrated Security\\n* Intelligent Infrastructure for Human Centered Communities\\n\\nOne enormous problem is that the university already has several highly successful research institutes which are doing exactly this, right now. So what is the difference? Not much, except the destination areas are controlled by the central administration, while the current institutes are semi-autonomous. Nobody from Burrus Hall micromanages VTTI.\\n\\nThe fight came about when VT\\'s central admin started forcing the institutes to dedicate significant man-hours to helping create the destination areas which would eventually replace them, or potentially compete with them. Best case scenario, the institutes are absorbed into the destination areas and the once independent director becomes just another a subordinate of Sands and company. Worst case scenario they out-compete their parent institutes and the institutes just fall apart. Pretty shitty either way.\\n\\nWorst of all, BI\\'s former director Chris Barrett strongly suggested that VT\\'s admin left the BI leadership out in the cold. They basically had no seat at the table, despite having the most to lose. They weren\\'t even asked for advice, though they had years of experience running a similar institute. They had no control at all over their own subordinates (being ordered to help create the new destination areas), and were effectively told to shut up and do what they were told because they had no other options. \\n\\nWell, Barrett decided he had other options, and walked away with $103 million in contracts, and the vast majority of the faculty and IP from VT\\'s 2nd most successful institute. \\n\\nIn the long run, it might not be a terrible idea, but we\\'re basically doing this right now, and ruining our existing research institutes just so the central admin has more control, seems like a bad idea and really pissed off a lot of people. It got so bad that Sands basically sacrificed his Provost (Rikakis) to appease the faculty calling for their heads. Rikakis\\' salary is unchanged, so he is still getting more than $400k a year to be a music professor. Sands put all the blame on him, replaced him with the Vet School Dean (Clark) and continued down the same foolish path. \\n\\nIn 20 years, we may not notice much difference, but between here and there, we\\'ll see a ton of in-fighting and chaos. IMHO it doesn\\'t make sense to alienate your most talented directors and researchers just to have more control over their activities. ',\n 'Found the townies',\n 'The war memorial maybe?',\n 'TEAM TEAM TEAM!!!',\n 'Team! Team! Team! ',\n 'r/unexpectedthanos',\n 'Thanks for your insights.  I did some reading on this after your last post. Highlights how bureaucracy can hurt the science and academic piece of the school.  Never heard about this whole arena...to me VT is still undergraduate buildings and Mr. Foos.  Good to know VT is a growing, nationally recognized,  vibrant, relevant, cutting-edge, research institute.  I hope the Universities leadership doesnt stifle the trajectory set by their predecessors.  ',\n 'I’m from upstate NY originally 😛',\n \"Nope!  I'm from Northern VA believe it or not. :)\",\n 'And Hokie stone. All of it.',\n ':stupid hand turkey and gobble noise:',\n 'Of course. Glad to help. \\n\\nSteger was my hero. He did a fantastic job of growing VT. For the last 15 years or so, VT has been the largest research university in the state. We pull in about 1.5x as much research funds as UVA does, even if you include their medical school ($500m versus $350m per year). Steger was also instrumental in launching the interdisciplinary research institutes and PhD programs.\\n\\nI hope Sands doesn\\'t change our trajectory. Losing BI was an enormous folly.\\n\\nI am also concerned by the recent trend of decentralizing the campus. We got rid of the MBA program, moved it to DC and Richmond (Radford snarkily advertises \"*the only MBA in the NRV*\" on the BT buses now). We are trying to move undergrads to the Roanoke medical campus. We moved education students to Richmond and a few other places. We\\'ve been expanding the DC campuses for a while now. See [here](https://www.washingtonpost.com/local/education/after-amazon-announcement-va-schools-prepare-for-new-students-partnerships/2018/11/24/e67f7b58-eda7-11e8-96d4-0d23f2aaad09_story.html). \\n\\nMost of these are good things. We absolutally should take advantage of Amazon HQ2 and the capital campus\\' connection to the Federal funding agencies. It\\'s also great that the state matched our investment (good job on Sands there). But I\\'d hate to see VT one day be a loose confederation of semi-related campuses with no central identity or sense of community. That is literally our greatest strength. If you break up the undergrad population and move thousands away from Bburg, you\\'ll destroy that identity. \\n_________________\\n\\nIf I had to pick one issue I have with Sands, it would be that it feels like he has no faith in VT or Blacksburg. He keeps trying to make radical changes because he doesn\\'t think VT can compete in traditional terms. He actually said exactly that in a speech he gave to the GSA. He keeps trying to expand beyond Blacksburg because he thinks the town can\\'t attract competent faculty or students (as if Roanoke could somehow compete with DC or Raleigh). For a president to have no faith in the university he leads seems like an enormous weakness. (It is also the reason many think Sands sees VT as a career stepping-stone and little more).']"
     },
     "metadata": {}
    }
   ]
  },
  {
   "cell_type": "markdown",
   "source": "# Start of extracting Reddit comments and attaching to dataset",
   "metadata": {
    "tags": [],
    "cell_id": "00004-f1b47b00-bdf4-4a0c-91f1-66675f9c12e2",
    "deepnote_cell_type": "markdown"
   }
  },
  {
   "cell_type": "code",
   "metadata": {
    "tags": [],
    "cell_id": "00006-f30d0cf8-4c76-4bc6-bc05-89432f5d0fde",
    "deepnote_to_be_reexecuted": false,
    "source_hash": "fe0bd2a",
    "execution_millis": 628,
    "execution_start": 1619660754213,
    "deepnote_cell_type": "code"
   },
   "source": "import pandas as pd\n\nwsb = pd.read_csv('reddit_wsb.csv')\nwsb.head(3)",
   "execution_count": null,
   "outputs": [
    {
     "output_type": "execute_result",
     "execution_count": 4,
     "data": {
      "application/vnd.deepnote.dataframe.v2+json": {
       "row_count": 3,
       "column_count": 8,
       "columns": [
        {
         "name": "title",
         "dtype": "object",
         "stats": {
          "unique_count": 3,
          "nan_count": 0,
          "categories": [
           {
            "name": "It's not about the money, it's about sending a message. 🚀💎🙌",
            "count": 1
           },
           {
            "name": "Math Professor Scott Steiner says the numbers spell DISASTER for Gamestop shorts",
            "count": 1
           },
           {
            "name": "Exit the system",
            "count": 1
           }
          ]
         }
        },
        {
         "name": "score",
         "dtype": "int64",
         "stats": {
          "unique_count": 3,
          "nan_count": 0,
          "min": "0",
          "max": "110",
          "histogram": [
           {
            "bin_start": 0,
            "bin_end": 11,
            "count": 1
           },
           {
            "bin_start": 11,
            "bin_end": 22,
            "count": 0
           },
           {
            "bin_start": 22,
            "bin_end": 33,
            "count": 0
           },
           {
            "bin_start": 33,
            "bin_end": 44,
            "count": 0
           },
           {
            "bin_start": 44,
            "bin_end": 55,
            "count": 0
           },
           {
            "bin_start": 55,
            "bin_end": 66,
            "count": 1
           },
           {
            "bin_start": 66,
            "bin_end": 77,
            "count": 0
           },
           {
            "bin_start": 77,
            "bin_end": 88,
            "count": 0
           },
           {
            "bin_start": 88,
            "bin_end": 99,
            "count": 0
           },
           {
            "bin_start": 99,
            "bin_end": 110,
            "count": 1
           }
          ]
         }
        },
        {
         "name": "id",
         "dtype": "object",
         "stats": {
          "unique_count": 3,
          "nan_count": 0,
          "categories": [
           {
            "name": "l6ulcx",
            "count": 1
           },
           {
            "name": "l6uibd",
            "count": 1
           },
           {
            "name": "l6uhhn",
            "count": 1
           }
          ]
         }
        },
        {
         "name": "url",
         "dtype": "object",
         "stats": {
          "unique_count": 3,
          "nan_count": 0,
          "categories": [
           {
            "name": "https://v.redd.it/6j75regs72e61",
            "count": 1
           },
           {
            "name": "https://v.redd.it/ah50lyny62e61",
            "count": 1
           },
           {
            "name": "https://www.reddit.com/r/wallstreetbets/comments/l6uhhn/exit_the_system/",
            "count": 1
           }
          ]
         }
        },
        {
         "name": "comms_num",
         "dtype": "int64",
         "stats": {
          "unique_count": 3,
          "nan_count": 0,
          "min": "6",
          "max": "47",
          "histogram": [
           {
            "bin_start": 6,
            "bin_end": 10.1,
            "count": 1
           },
           {
            "bin_start": 10.1,
            "bin_end": 14.2,
            "count": 0
           },
           {
            "bin_start": 14.2,
            "bin_end": 18.299999999999997,
            "count": 0
           },
           {
            "bin_start": 18.299999999999997,
            "bin_end": 22.4,
            "count": 0
           },
           {
            "bin_start": 22.4,
            "bin_end": 26.5,
            "count": 1
           },
           {
            "bin_start": 26.5,
            "bin_end": 30.599999999999998,
            "count": 0
           },
           {
            "bin_start": 30.599999999999998,
            "bin_end": 34.699999999999996,
            "count": 0
           },
           {
            "bin_start": 34.699999999999996,
            "bin_end": 38.8,
            "count": 0
           },
           {
            "bin_start": 38.8,
            "bin_end": 42.9,
            "count": 0
           },
           {
            "bin_start": 42.9,
            "bin_end": 47,
            "count": 1
           }
          ]
         }
        },
        {
         "name": "created",
         "dtype": "float64",
         "stats": {
          "unique_count": 3,
          "nan_count": 0,
          "min": "1611862235.0",
          "max": "1611862661.0",
          "histogram": [
           {
            "bin_start": 1611862235,
            "bin_end": 1611862277.6,
            "count": 1
           },
           {
            "bin_start": 1611862277.6,
            "bin_end": 1611862320.2,
            "count": 0
           },
           {
            "bin_start": 1611862320.2,
            "bin_end": 1611862362.8,
            "count": 1
           },
           {
            "bin_start": 1611862362.8,
            "bin_end": 1611862405.4,
            "count": 0
           },
           {
            "bin_start": 1611862405.4,
            "bin_end": 1611862448,
            "count": 0
           },
           {
            "bin_start": 1611862448,
            "bin_end": 1611862490.6,
            "count": 0
           },
           {
            "bin_start": 1611862490.6,
            "bin_end": 1611862533.2,
            "count": 0
           },
           {
            "bin_start": 1611862533.2,
            "bin_end": 1611862575.8,
            "count": 0
           },
           {
            "bin_start": 1611862575.8,
            "bin_end": 1611862618.4,
            "count": 0
           },
           {
            "bin_start": 1611862618.4,
            "bin_end": 1611862661,
            "count": 1
           }
          ]
         }
        },
        {
         "name": "body",
         "dtype": "object",
         "stats": {
          "unique_count": 1,
          "nan_count": 2,
          "categories": [
           {
            "name": "The CEO of NASDAQ pushed to halt trading “to give investors a chance to recalibrate their positions”.\n\n[https://mobile.twitter.com/Mediaite/status/1354504710695362563](https://mobile.twitter.com/Mediaite/status/1354504710695362563)\n\nNow SEC is investigating, brokers are disallowing buying more calls. This is the institutions flat out admitting they will change the rules to bail out the rich but if it happens to us, we get a “well shucks you should have known investing is risky! have you tried cutting out avocados and coffee, maybe doing Uber on the side?”\n\nWe may have collectively driven up enough sentiment in wall street to make other big players go long on GME with us (we do not have the money to move the stock as much as it did alone). we didn’t hurt wall street as a whole, just a few funds went down while others went up and profited off the shorts the same as us. The media wants to pin the blame on us.\n\nIt should be crystal clear that this is a rigged game by now. Its time to build new exchanges that can’t arbitrarily change the rules on us. Cr\\*\\*o has some version of these, maybe they can be repurposed to be trade stock without government intervention. I don’t know exactly what it will look like yet, but the broad next steps i see are - 1. exit the current financial system 2. build a new one.",
            "count": 1
           },
           {
            "name": "Missing",
            "count": 2
           }
          ]
         }
        },
        {
         "name": "timestamp",
         "dtype": "object",
         "stats": {
          "unique_count": 3,
          "nan_count": 0,
          "categories": [
           {
            "name": "2021-01-28 21:37:41",
            "count": 1
           },
           {
            "name": "2021-01-28 21:32:10",
            "count": 1
           },
           {
            "name": "2021-01-28 21:30:35",
            "count": 1
           }
          ]
         }
        },
        {
         "name": "_deepnote_index_column",
         "dtype": "int64"
        }
       ],
       "rows_top": [
        {
         "title": "It's not about the money, it's about sending a message. 🚀💎🙌",
         "score": 55,
         "id": "l6ulcx",
         "url": "https://v.redd.it/6j75regs72e61",
         "comms_num": 6,
         "created": 1611862661,
         "body": "nan",
         "timestamp": "2021-01-28 21:37:41",
         "_deepnote_index_column": 0
        },
        {
         "title": "Math Professor Scott Steiner says the numbers spell DISASTER for Gamestop shorts",
         "score": 110,
         "id": "l6uibd",
         "url": "https://v.redd.it/ah50lyny62e61",
         "comms_num": 23,
         "created": 1611862330,
         "body": "nan",
         "timestamp": "2021-01-28 21:32:10",
         "_deepnote_index_column": 1
        },
        {
         "title": "Exit the system",
         "score": 0,
         "id": "l6uhhn",
         "url": "https://www.reddit.com/r/wallstreetbets/comments/l6uhhn/exit_the_system/",
         "comms_num": 47,
         "created": 1611862235,
         "body": "The CEO of NASDAQ pushed to halt trading “to give investors a chance to recalibrate their positions”.\n\n[https://mobile.twitter.com/Mediaite/status/1354504710695362563](https://mobile.twitter.com/Mediaite/status/1354504710695362563)\n\nNow SEC is investigating, brokers are disallowing buying more calls. This is the institutions flat out admitting they will change the rules to bail out the rich but if it happens to us, we get a “well shucks you should have known investing is risky! have you tried cutting out avocados and coffee, maybe doing Uber on the side?”\n\nWe may have collectively driven up enough sentiment in wall street to make other big players go long on GME with us (we do not have the money to move the stock as much as it did alone). we didn’t hurt wall street as a whole, just a few funds went down while others went up and profited off the shorts the same as us. The media wants to pin the blame on us.\n\nIt should be crystal clear that this is a rigged game by now. Its time to build new exchanges that can’t arbitrarily change the rules on us. Cr\\*\\*o has some version of these, maybe they can be repurposed to be trade stock without government intervention. I don’t know exactly what it will look like yet, but the broad next steps i see are - 1. exit the current financial system 2. build a new one.",
         "timestamp": "2021-01-28 21:30:35",
         "_deepnote_index_column": 2
        }
       ],
       "rows_bottom": null
      },
      "text/plain": "                                               title  score      id  \\\n0  It's not about the money, it's about sending a...     55  l6ulcx   \n1  Math Professor Scott Steiner says the numbers ...    110  l6uibd   \n2                                    Exit the system      0  l6uhhn   \n\n                                                 url  comms_num       created  \\\n0                    https://v.redd.it/6j75regs72e61          6  1.611863e+09   \n1                    https://v.redd.it/ah50lyny62e61         23  1.611862e+09   \n2  https://www.reddit.com/r/wallstreetbets/commen...         47  1.611862e+09   \n\n                                                body            timestamp  \n0                                                NaN  2021-01-28 21:37:41  \n1                                                NaN  2021-01-28 21:32:10  \n2  The CEO of NASDAQ pushed to halt trading “to g...  2021-01-28 21:30:35  ",
      "text/html": "<div>\n<style scoped>\n    .dataframe tbody tr th:only-of-type {\n        vertical-align: middle;\n    }\n\n    .dataframe tbody tr th {\n        vertical-align: top;\n    }\n\n    .dataframe thead th {\n        text-align: right;\n    }\n</style>\n<table border=\"1\" class=\"dataframe\">\n  <thead>\n    <tr style=\"text-align: right;\">\n      <th></th>\n      <th>title</th>\n      <th>score</th>\n      <th>id</th>\n      <th>url</th>\n      <th>comms_num</th>\n      <th>created</th>\n      <th>body</th>\n      <th>timestamp</th>\n    </tr>\n  </thead>\n  <tbody>\n    <tr>\n      <th>0</th>\n      <td>It's not about the money, it's about sending a...</td>\n      <td>55</td>\n      <td>l6ulcx</td>\n      <td>https://v.redd.it/6j75regs72e61</td>\n      <td>6</td>\n      <td>1.611863e+09</td>\n      <td>NaN</td>\n      <td>2021-01-28 21:37:41</td>\n    </tr>\n    <tr>\n      <th>1</th>\n      <td>Math Professor Scott Steiner says the numbers ...</td>\n      <td>110</td>\n      <td>l6uibd</td>\n      <td>https://v.redd.it/ah50lyny62e61</td>\n      <td>23</td>\n      <td>1.611862e+09</td>\n      <td>NaN</td>\n      <td>2021-01-28 21:32:10</td>\n    </tr>\n    <tr>\n      <th>2</th>\n      <td>Exit the system</td>\n      <td>0</td>\n      <td>l6uhhn</td>\n      <td>https://www.reddit.com/r/wallstreetbets/commen...</td>\n      <td>47</td>\n      <td>1.611862e+09</td>\n      <td>The CEO of NASDAQ pushed to halt trading “to g...</td>\n      <td>2021-01-28 21:30:35</td>\n    </tr>\n  </tbody>\n</table>\n</div>"
     },
     "metadata": {}
    }
   ]
  },
  {
   "cell_type": "code",
   "metadata": {
    "tags": [],
    "cell_id": "00006-ffdd83d5-c94f-45b2-9dbb-49723b4a61f3",
    "deepnote_to_be_reexecuted": false,
    "source_hash": "e7699a2",
    "execution_millis": 0,
    "execution_start": 1619660754767,
    "deepnote_cell_type": "code"
   },
   "source": "# Returns comments from a post in a form of a list\n# csvID = ID from CSV file \ndef comment_getter(csvID):\n    commentList = []\n    post = reddit.submission(id=csvID) \n    post.comments.replace_more(limit=1) \n    [commentList.append(comment.body) for comment in post.comments.list()]\n    return commentList",
   "execution_count": null,
   "outputs": []
  },
  {
   "cell_type": "code",
   "metadata": {
    "tags": [],
    "cell_id": "00007-c2a99788-cf10-4e8d-8a60-077eaee4797f",
    "deepnote_to_be_reexecuted": false,
    "source_hash": "88d85403",
    "execution_millis": 27386,
    "execution_start": 1619660754767,
    "deepnote_cell_type": "code"
   },
   "source": "import time\n\nstart = time.time()\n\npost_comms = []\n\nfor id in wsb.id:\n    extractComms = comment_getter(id)\n    post_comms.append(extractComms)\n\nend = time.time()\nprint('Just first page: ' % (end-start))",
   "execution_count": null,
   "outputs": [
    {
     "output_type": "error",
     "ename": "TooLarge",
     "evalue": "received 413 HTTP response",
     "traceback": [
      "\u001b[0;31m---------------------------------------------------------------------------\u001b[0m",
      "\u001b[0;31mTooLarge\u001b[0m                                  Traceback (most recent call last)",
      "\u001b[0;32m<ipython-input-6-e160e9fc1ac2>\u001b[0m in \u001b[0;36m<module>\u001b[0;34m\u001b[0m\n\u001b[1;32m      6\u001b[0m \u001b[0;34m\u001b[0m\u001b[0m\n\u001b[1;32m      7\u001b[0m \u001b[0;32mfor\u001b[0m \u001b[0mid\u001b[0m \u001b[0;32min\u001b[0m \u001b[0mwsb\u001b[0m\u001b[0;34m.\u001b[0m\u001b[0mid\u001b[0m\u001b[0;34m:\u001b[0m\u001b[0;34m\u001b[0m\u001b[0;34m\u001b[0m\u001b[0m\n\u001b[0;32m----> 8\u001b[0;31m     \u001b[0mextractComms\u001b[0m \u001b[0;34m=\u001b[0m \u001b[0mcomment_getter\u001b[0m\u001b[0;34m(\u001b[0m\u001b[0mid\u001b[0m\u001b[0;34m)\u001b[0m\u001b[0;34m\u001b[0m\u001b[0;34m\u001b[0m\u001b[0m\n\u001b[0m\u001b[1;32m      9\u001b[0m     \u001b[0mpost_comms\u001b[0m\u001b[0;34m.\u001b[0m\u001b[0mappend\u001b[0m\u001b[0;34m(\u001b[0m\u001b[0mextractComms\u001b[0m\u001b[0;34m)\u001b[0m\u001b[0;34m\u001b[0m\u001b[0;34m\u001b[0m\u001b[0m\n\u001b[1;32m     10\u001b[0m \u001b[0;34m\u001b[0m\u001b[0m\n",
      "\u001b[0;32m<ipython-input-5-22ccc7b1fd32>\u001b[0m in \u001b[0;36mcomment_getter\u001b[0;34m(csvID)\u001b[0m\n\u001b[1;32m      4\u001b[0m     \u001b[0mcommentList\u001b[0m \u001b[0;34m=\u001b[0m \u001b[0;34m[\u001b[0m\u001b[0;34m]\u001b[0m\u001b[0;34m\u001b[0m\u001b[0;34m\u001b[0m\u001b[0m\n\u001b[1;32m      5\u001b[0m     \u001b[0mpost\u001b[0m \u001b[0;34m=\u001b[0m \u001b[0mreddit\u001b[0m\u001b[0;34m.\u001b[0m\u001b[0msubmission\u001b[0m\u001b[0;34m(\u001b[0m\u001b[0mid\u001b[0m\u001b[0;34m=\u001b[0m\u001b[0mcsvID\u001b[0m\u001b[0;34m)\u001b[0m\u001b[0;34m\u001b[0m\u001b[0;34m\u001b[0m\u001b[0m\n\u001b[0;32m----> 6\u001b[0;31m     \u001b[0mpost\u001b[0m\u001b[0;34m.\u001b[0m\u001b[0mcomments\u001b[0m\u001b[0;34m.\u001b[0m\u001b[0mreplace_more\u001b[0m\u001b[0;34m(\u001b[0m\u001b[0mlimit\u001b[0m\u001b[0;34m=\u001b[0m\u001b[0;36m1\u001b[0m\u001b[0;34m)\u001b[0m\u001b[0;34m\u001b[0m\u001b[0;34m\u001b[0m\u001b[0m\n\u001b[0m\u001b[1;32m      7\u001b[0m     \u001b[0;34m[\u001b[0m\u001b[0mcommentList\u001b[0m\u001b[0;34m.\u001b[0m\u001b[0mappend\u001b[0m\u001b[0;34m(\u001b[0m\u001b[0mcomment\u001b[0m\u001b[0;34m.\u001b[0m\u001b[0mbody\u001b[0m\u001b[0;34m)\u001b[0m \u001b[0;32mfor\u001b[0m \u001b[0mcomment\u001b[0m \u001b[0;32min\u001b[0m \u001b[0mpost\u001b[0m\u001b[0;34m.\u001b[0m\u001b[0mcomments\u001b[0m\u001b[0;34m.\u001b[0m\u001b[0mlist\u001b[0m\u001b[0;34m(\u001b[0m\u001b[0;34m)\u001b[0m\u001b[0;34m]\u001b[0m\u001b[0;34m\u001b[0m\u001b[0;34m\u001b[0m\u001b[0m\n\u001b[1;32m      8\u001b[0m     \u001b[0;32mreturn\u001b[0m \u001b[0mcommentList\u001b[0m\u001b[0;34m\u001b[0m\u001b[0;34m\u001b[0m\u001b[0m\n",
      "\u001b[0;32m~/venv/lib/python3.7/site-packages/praw/models/comment_forest.py\u001b[0m in \u001b[0;36mreplace_more\u001b[0;34m(self, limit, threshold)\u001b[0m\n\u001b[1;32m    176\u001b[0m                 \u001b[0;32mcontinue\u001b[0m\u001b[0;34m\u001b[0m\u001b[0;34m\u001b[0m\u001b[0m\n\u001b[1;32m    177\u001b[0m \u001b[0;34m\u001b[0m\u001b[0m\n\u001b[0;32m--> 178\u001b[0;31m             \u001b[0mnew_comments\u001b[0m \u001b[0;34m=\u001b[0m \u001b[0mitem\u001b[0m\u001b[0;34m.\u001b[0m\u001b[0mcomments\u001b[0m\u001b[0;34m(\u001b[0m\u001b[0mupdate\u001b[0m\u001b[0;34m=\u001b[0m\u001b[0;32mFalse\u001b[0m\u001b[0;34m)\u001b[0m\u001b[0;34m\u001b[0m\u001b[0;34m\u001b[0m\u001b[0m\n\u001b[0m\u001b[1;32m    179\u001b[0m             \u001b[0;32mif\u001b[0m \u001b[0mremaining\u001b[0m \u001b[0;32mis\u001b[0m \u001b[0;32mnot\u001b[0m \u001b[0;32mNone\u001b[0m\u001b[0;34m:\u001b[0m\u001b[0;34m\u001b[0m\u001b[0;34m\u001b[0m\u001b[0m\n\u001b[1;32m    180\u001b[0m                 \u001b[0mremaining\u001b[0m \u001b[0;34m-=\u001b[0m \u001b[0;36m1\u001b[0m\u001b[0;34m\u001b[0m\u001b[0;34m\u001b[0m\u001b[0m\n",
      "\u001b[0;32m~/venv/lib/python3.7/site-packages/praw/models/reddit/more.py\u001b[0m in \u001b[0;36mcomments\u001b[0;34m(self, update)\u001b[0m\n\u001b[1;32m     72\u001b[0m                 \u001b[0;34m\"sort\"\u001b[0m\u001b[0;34m:\u001b[0m \u001b[0mself\u001b[0m\u001b[0;34m.\u001b[0m\u001b[0msubmission\u001b[0m\u001b[0;34m.\u001b[0m\u001b[0mcomment_sort\u001b[0m\u001b[0;34m,\u001b[0m\u001b[0;34m\u001b[0m\u001b[0;34m\u001b[0m\u001b[0m\n\u001b[1;32m     73\u001b[0m             }\n\u001b[0;32m---> 74\u001b[0;31m             \u001b[0mself\u001b[0m\u001b[0;34m.\u001b[0m\u001b[0m_comments\u001b[0m \u001b[0;34m=\u001b[0m \u001b[0mself\u001b[0m\u001b[0;34m.\u001b[0m\u001b[0m_reddit\u001b[0m\u001b[0;34m.\u001b[0m\u001b[0mpost\u001b[0m\u001b[0;34m(\u001b[0m\u001b[0mAPI_PATH\u001b[0m\u001b[0;34m[\u001b[0m\u001b[0;34m\"morechildren\"\u001b[0m\u001b[0;34m]\u001b[0m\u001b[0;34m,\u001b[0m \u001b[0mdata\u001b[0m\u001b[0;34m=\u001b[0m\u001b[0mdata\u001b[0m\u001b[0;34m)\u001b[0m\u001b[0;34m\u001b[0m\u001b[0;34m\u001b[0m\u001b[0m\n\u001b[0m\u001b[1;32m     75\u001b[0m             \u001b[0;32mif\u001b[0m \u001b[0mupdate\u001b[0m\u001b[0;34m:\u001b[0m\u001b[0;34m\u001b[0m\u001b[0;34m\u001b[0m\u001b[0m\n\u001b[1;32m     76\u001b[0m                 \u001b[0;32mfor\u001b[0m \u001b[0mcomment\u001b[0m \u001b[0;32min\u001b[0m \u001b[0mself\u001b[0m\u001b[0;34m.\u001b[0m\u001b[0m_comments\u001b[0m\u001b[0;34m:\u001b[0m\u001b[0;34m\u001b[0m\u001b[0;34m\u001b[0m\u001b[0m\n",
      "\u001b[0;32m~/venv/lib/python3.7/site-packages/praw/reddit.py\u001b[0m in \u001b[0;36mpost\u001b[0;34m(self, path, data, files, params, json)\u001b[0m\n\u001b[1;32m    756\u001b[0m                 \u001b[0mmethod\u001b[0m\u001b[0;34m=\u001b[0m\u001b[0;34m\"POST\"\u001b[0m\u001b[0;34m,\u001b[0m\u001b[0;34m\u001b[0m\u001b[0;34m\u001b[0m\u001b[0m\n\u001b[1;32m    757\u001b[0m                 \u001b[0mparams\u001b[0m\u001b[0;34m=\u001b[0m\u001b[0mparams\u001b[0m\u001b[0;34m,\u001b[0m\u001b[0;34m\u001b[0m\u001b[0;34m\u001b[0m\u001b[0m\n\u001b[0;32m--> 758\u001b[0;31m                 \u001b[0mpath\u001b[0m\u001b[0;34m=\u001b[0m\u001b[0mpath\u001b[0m\u001b[0;34m,\u001b[0m\u001b[0;34m\u001b[0m\u001b[0;34m\u001b[0m\u001b[0m\n\u001b[0m\u001b[1;32m    759\u001b[0m             )\n\u001b[1;32m    760\u001b[0m         \u001b[0;32mexcept\u001b[0m \u001b[0mRedditAPIException\u001b[0m \u001b[0;32mas\u001b[0m \u001b[0mexception\u001b[0m\u001b[0;34m:\u001b[0m\u001b[0;34m\u001b[0m\u001b[0;34m\u001b[0m\u001b[0m\n",
      "\u001b[0;32m~/venv/lib/python3.7/site-packages/praw/reddit.py\u001b[0m in \u001b[0;36m_objectify_request\u001b[0;34m(self, data, files, json, method, params, path)\u001b[0m\n\u001b[1;32m    670\u001b[0m                 \u001b[0mmethod\u001b[0m\u001b[0;34m=\u001b[0m\u001b[0mmethod\u001b[0m\u001b[0;34m,\u001b[0m\u001b[0;34m\u001b[0m\u001b[0;34m\u001b[0m\u001b[0m\n\u001b[1;32m    671\u001b[0m                 \u001b[0mparams\u001b[0m\u001b[0;34m=\u001b[0m\u001b[0mparams\u001b[0m\u001b[0;34m,\u001b[0m\u001b[0;34m\u001b[0m\u001b[0;34m\u001b[0m\u001b[0m\n\u001b[0;32m--> 672\u001b[0;31m                 \u001b[0mpath\u001b[0m\u001b[0;34m=\u001b[0m\u001b[0mpath\u001b[0m\u001b[0;34m,\u001b[0m\u001b[0;34m\u001b[0m\u001b[0;34m\u001b[0m\u001b[0m\n\u001b[0m\u001b[1;32m    673\u001b[0m             )\n\u001b[1;32m    674\u001b[0m         )\n",
      "\u001b[0;32m~/venv/lib/python3.7/site-packages/praw/reddit.py\u001b[0m in \u001b[0;36mrequest\u001b[0;34m(self, method, path, params, data, files, json)\u001b[0m\n\u001b[1;32m    853\u001b[0m                 \u001b[0mparams\u001b[0m\u001b[0;34m=\u001b[0m\u001b[0mparams\u001b[0m\u001b[0;34m,\u001b[0m\u001b[0;34m\u001b[0m\u001b[0;34m\u001b[0m\u001b[0m\n\u001b[1;32m    854\u001b[0m                 \u001b[0mtimeout\u001b[0m\u001b[0;34m=\u001b[0m\u001b[0mself\u001b[0m\u001b[0;34m.\u001b[0m\u001b[0mconfig\u001b[0m\u001b[0;34m.\u001b[0m\u001b[0mtimeout\u001b[0m\u001b[0;34m,\u001b[0m\u001b[0;34m\u001b[0m\u001b[0;34m\u001b[0m\u001b[0m\n\u001b[0;32m--> 855\u001b[0;31m                 \u001b[0mjson\u001b[0m\u001b[0;34m=\u001b[0m\u001b[0mjson\u001b[0m\u001b[0;34m,\u001b[0m\u001b[0;34m\u001b[0m\u001b[0;34m\u001b[0m\u001b[0m\n\u001b[0m\u001b[1;32m    856\u001b[0m             )\n\u001b[1;32m    857\u001b[0m         \u001b[0;32mexcept\u001b[0m \u001b[0mBadRequest\u001b[0m \u001b[0;32mas\u001b[0m \u001b[0mexception\u001b[0m\u001b[0;34m:\u001b[0m\u001b[0;34m\u001b[0m\u001b[0;34m\u001b[0m\u001b[0m\n",
      "\u001b[0;32m~/venv/lib/python3.7/site-packages/prawcore/sessions.py\u001b[0m in \u001b[0;36mrequest\u001b[0;34m(self, method, path, data, files, json, params, timeout)\u001b[0m\n\u001b[1;32m    329\u001b[0m             \u001b[0mparams\u001b[0m\u001b[0;34m=\u001b[0m\u001b[0mparams\u001b[0m\u001b[0;34m,\u001b[0m\u001b[0;34m\u001b[0m\u001b[0;34m\u001b[0m\u001b[0m\n\u001b[1;32m    330\u001b[0m             \u001b[0mtimeout\u001b[0m\u001b[0;34m=\u001b[0m\u001b[0mtimeout\u001b[0m\u001b[0;34m,\u001b[0m\u001b[0;34m\u001b[0m\u001b[0;34m\u001b[0m\u001b[0m\n\u001b[0;32m--> 331\u001b[0;31m             \u001b[0murl\u001b[0m\u001b[0;34m=\u001b[0m\u001b[0murl\u001b[0m\u001b[0;34m,\u001b[0m\u001b[0;34m\u001b[0m\u001b[0;34m\u001b[0m\u001b[0m\n\u001b[0m\u001b[1;32m    332\u001b[0m         )\n\u001b[1;32m    333\u001b[0m \u001b[0;34m\u001b[0m\u001b[0m\n",
      "\u001b[0;32m~/venv/lib/python3.7/site-packages/prawcore/sessions.py\u001b[0m in \u001b[0;36m_request_with_retries\u001b[0;34m(self, data, files, json, method, params, timeout, url, retry_strategy_state)\u001b[0m\n\u001b[1;32m    258\u001b[0m             )\n\u001b[1;32m    259\u001b[0m         \u001b[0;32melif\u001b[0m \u001b[0mresponse\u001b[0m\u001b[0;34m.\u001b[0m\u001b[0mstatus_code\u001b[0m \u001b[0;32min\u001b[0m \u001b[0mself\u001b[0m\u001b[0;34m.\u001b[0m\u001b[0mSTATUS_EXCEPTIONS\u001b[0m\u001b[0;34m:\u001b[0m\u001b[0;34m\u001b[0m\u001b[0;34m\u001b[0m\u001b[0m\n\u001b[0;32m--> 260\u001b[0;31m             \u001b[0;32mraise\u001b[0m \u001b[0mself\u001b[0m\u001b[0;34m.\u001b[0m\u001b[0mSTATUS_EXCEPTIONS\u001b[0m\u001b[0;34m[\u001b[0m\u001b[0mresponse\u001b[0m\u001b[0;34m.\u001b[0m\u001b[0mstatus_code\u001b[0m\u001b[0;34m]\u001b[0m\u001b[0;34m(\u001b[0m\u001b[0mresponse\u001b[0m\u001b[0;34m)\u001b[0m\u001b[0;34m\u001b[0m\u001b[0;34m\u001b[0m\u001b[0m\n\u001b[0m\u001b[1;32m    261\u001b[0m         \u001b[0;32melif\u001b[0m \u001b[0mresponse\u001b[0m\u001b[0;34m.\u001b[0m\u001b[0mstatus_code\u001b[0m \u001b[0;34m==\u001b[0m \u001b[0mcodes\u001b[0m\u001b[0;34m[\u001b[0m\u001b[0;34m\"no_content\"\u001b[0m\u001b[0;34m]\u001b[0m\u001b[0;34m:\u001b[0m\u001b[0;34m\u001b[0m\u001b[0;34m\u001b[0m\u001b[0m\n\u001b[1;32m    262\u001b[0m             \u001b[0;32mreturn\u001b[0m\u001b[0;34m\u001b[0m\u001b[0;34m\u001b[0m\u001b[0m\n",
      "\u001b[0;31mTooLarge\u001b[0m: received 413 HTTP response"
     ]
    }
   ]
  },
  {
   "cell_type": "markdown",
   "source": "<a style='text-decoration:none;line-height:16px;display:flex;color:#5B5B62;padding:10px;justify-content:end;' href='https://deepnote.com?utm_source=created-in-deepnote-cell&projectId=169bfa36-708d-426e-97fc-f7ee00b8d5b5' target=\"_blank\">\n<img alt='Created in deepnote.com' style='display:inline;max-height:16px;margin:0px;margin-right:7.5px;' src='data:image/svg+xml;base64,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' > </img>\nCreated in <span style='font-weight:600;margin-left:4px;'>Deepnote</span></a>",
   "metadata": {
    "tags": [],
    "created_in_deepnote_cell": true,
    "deepnote_cell_type": "markdown"
   }
  }
 ],
 "nbformat": 4,
 "nbformat_minor": 5,
 "metadata": {
  "kernelspec": {
   "display_name": "Python 3",
   "language": "python",
   "name": "python3"
  },
  "language_info": {
   "codemirror_mode": {
    "name": "ipython",
    "version": 3
   },
   "file_extension": ".py",
   "mimetype": "text/x-python",
   "name": "python",
   "nbconvert_exporter": "python",
   "pygments_lexer": "ipython3",
   "version": "3.8.5"
  },
  "deepnote_notebook_id": "703fd2de-70b1-409f-9e56-39fb04c326e9",
  "deepnote": {},
  "deepnote_execution_queue": []
 }
}